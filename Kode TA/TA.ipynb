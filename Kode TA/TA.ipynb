{
 "cells": [
  {
   "cell_type": "code",
   "execution_count": 8,
   "metadata": {},
   "outputs": [],
   "source": [
    "import pandas as pd\n",
    "import numpy as np\n",
    "\n",
    "# Data loading and setting up\n",
    "df = pd.read_csv('d.csv')\n",
    "availabilities = df[df.columns[2]].astype(str)\n",
    "months = df[df.columns[0]].ffill().astype(str)\n",
    "date = df[df.columns[1]].astype(np.uint8)\n",
    "df = df.drop(df.columns[range(3)], axis=1)\n",
    "data = df.to_numpy().astype(np.uint8)\n",
    "\n",
    "# SLink mat setup\n",
    "mat = np.zeros((19,19)).astype(np.uint8)\n",
    "np.fill_diagonal(mat, 10)\n",
    "mat[11, 11] = 6\n",
    "mat[9, 9] = 4\n",
    "\n",
    "weights = np.ones((19,))\n",
    "\n",
    "listrange = lambda x,y: list(range(x, y))\n",
    "day_chars = [*listrange(0, 2), *listrange(3,12), *listrange(14, 17), 18]\n",
    "night_chars = sorted(list(set(listrange(0,19))-set(day_chars)))\n"
   ]
  },
  {
   "attachments": {},
   "cell_type": "markdown",
   "metadata": {},
   "source": [
    "## Weights for Kou"
   ]
  },
  {
   "cell_type": "code",
   "execution_count": 5,
   "metadata": {},
   "outputs": [
    {
     "data": {
      "text/plain": [
       "Index(['Yukiko Amagi', 'Chie Satonaka', 'Naoki Konishi', 'Naoto Shirogane',\n",
       "       'Kanji Tatsumi', 'Ai Ebihara', 'Kou Ichijo', 'Ayane Matsunaga',\n",
       "       'Eri Minami', 'Nanako Dojima', 'Fox', 'Marie', 'Shu Nakajima',\n",
       "       'Rise Kujikawa', 'Tohru Adachi', 'Sayoko Uehara', 'Ryotaro Dojima',\n",
       "       'Hisano Kuroda', 'Yosuke Hanamura'],\n",
       "      dtype='object')"
      ]
     },
     "execution_count": 5,
     "metadata": {},
     "output_type": "execute_result"
    }
   ],
   "source": [
    "# Kou  setup\n",
    "\n",
    "weights[1] = 1.6\n",
    "weights[3] = 1.7\n",
    "weights[5] = 1.1\n",
    "weights[6] = 1.1\n",
    "weights[8] = 1.2\n",
    "weights[14] = 1.1\n",
    "weights[15] = 1.5\n",
    "weights[18] = 1.2\n",
    "df.columns[np.argsort(weights)[::-1]]"
   ]
  },
  {
   "attachments": {},
   "cell_type": "markdown",
   "metadata": {},
   "source": [
    "## Weights for Daisuke"
   ]
  },
  {
   "cell_type": "code",
   "execution_count": 9,
   "metadata": {},
   "outputs": [
    {
     "data": {
      "text/plain": [
       "Index(['Naoto Shirogane', 'Kanji Tatsumi', 'Chie Satonaka', 'Nanako Dojima',\n",
       "       'Yukiko Amagi', 'Fox', 'Daisuke Nagase', 'Ayane Matsunaga',\n",
       "       'Eri Minami', 'Marie', 'Shu Nakajima', 'Rise Kujikawa', 'Tohru Adachi',\n",
       "       'Sayoko Uehara', 'Ryotaro Dojima', 'Ai Ebihara', 'Naoki Konishi',\n",
       "       'Hisano Kuroda', 'Yosuke Hanamura'],\n",
       "      dtype='object')"
      ]
     },
     "execution_count": 9,
     "metadata": {},
     "output_type": "execute_result"
    }
   ],
   "source": [
    "# Daisuke setup\n",
    "df.columns[np.argsort(weights)[::-1]]"
   ]
  },
  {
   "attachments": {},
   "cell_type": "markdown",
   "metadata": {},
   "source": [
    "## Simulation"
   ]
  },
  {
   "cell_type": "code",
   "execution_count": 10,
   "metadata": {},
   "outputs": [
    {
     "name": "stdout",
     "output_type": "stream",
     "text": [
      "[0 0 0 0 0 0 0 0 0 0 0 0 0 0 0 0 0 0 0]\n",
      "Index([], dtype='object') []\n",
      "(array([], dtype=int64),)\n"
     ]
    }
   ],
   "source": [
    "def iterate(r, data, mat):\n",
    "    s = data.sum(axis=0)\n",
    "    r = np.divide(r, s, out=np.zeros_like(r).astype(np.float32), where=s!=0)\n",
    "    res = mat@r\n",
    "    maxdata = np.argmax(res)\n",
    "    if res[maxdata] <= 0: return mat, None\n",
    "    curr = mat[maxdata, maxdata]\n",
    "    if curr <= 0: return mat, None\n",
    "    mat[maxdata, maxdata] = curr - 1\n",
    "    return mat, maxdata\n",
    "\n",
    "selecteds = []\n",
    "for i, r in enumerate(data.copy()):\n",
    "    r = r * weights\n",
    "    if i == 105:\n",
    "        mat[9, 9] = 6 + mat[9, 9]\n",
    "    if availabilities[i] == 'b':\n",
    "        a = r.copy()\n",
    "        a[night_chars] = 0\n",
    "        d = data[i:].copy()\n",
    "        d[:, night_chars] = 0\n",
    "        mat, selected1 = iterate(a, d, mat)\n",
    "        a = r.copy()\n",
    "        a[day_chars] = 0\n",
    "        d = data[i:].copy()\n",
    "        d[:, day_chars] = 0\n",
    "        mat, selected2 = iterate(a, d, mat)\n",
    "        selected = (selected1, selected2)\n",
    "    else:\n",
    "        mat, selected = iterate(r, data[i:], mat)\n",
    "        selected = (selected, None)\n",
    "    selecteds.append(selected)\n",
    "print(np.diag(mat))\n",
    "print(df.columns[np.diag(mat) > 0], np.diag(mat)[np.diag(mat) > 0])\n",
    "print(np.where(np.diag(mat) > 0))\n"
   ]
  },
  {
   "cell_type": "code",
   "execution_count": 11,
   "metadata": {},
   "outputs": [],
   "source": [
    "names = df.columns.to_numpy().copy()\n",
    "none = names.shape[0]\n",
    "names = np.append(names, 'None')\n",
    "p = []\n",
    "for i, (d, m) in enumerate(zip(date, months)):\n",
    "    s1, s2 = selecteds[i]\n",
    "    if s1 is None: s1 = none\n",
    "    if s2 is None:\n",
    "        p.append(names[s1])\n",
    "    else:\n",
    "        p.append(f'Day: {names[s1]}, Night: {names[s2]}')\n",
    "\n",
    "import csv\n",
    "with open('od.csv', 'w') as f:\n",
    "    writer = csv.writer(f, lineterminator='\\n')\n",
    "    writer.writerows(zip(months,date,p))"
   ]
  }
 ],
 "metadata": {
  "kernelspec": {
   "display_name": "base",
   "language": "python",
   "name": "python3"
  },
  "language_info": {
   "codemirror_mode": {
    "name": "ipython",
    "version": 3
   },
   "file_extension": ".py",
   "mimetype": "text/x-python",
   "name": "python",
   "nbconvert_exporter": "python",
   "pygments_lexer": "ipython3",
   "version": "3.8.3"
  },
  "orig_nbformat": 4
 },
 "nbformat": 4,
 "nbformat_minor": 2
}
