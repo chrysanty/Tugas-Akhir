{
 "cells": [
  {
   "cell_type": "code",
   "execution_count": 3,
   "metadata": {},
   "outputs": [],
   "source": [
    "import pandas as pd\n",
    "import numpy as np\n",
    "\n",
    "MAX_ADACHI = 6\n",
    "ADACHI_DAY_LEVELS = [1,2,3,5]\n",
    "\n",
    "def setup():\n",
    "  # Data loading and setting up\n",
    "  df = pd.read_csv('k1.csv')\n",
    "  availabilities = df[df.columns[2]].astype(str)\n",
    "  months = df[df.columns[0]].ffill().astype(str)\n",
    "  date = df[df.columns[1]].astype(np.uint8)\n",
    "  df = df.drop(df.columns[range(3)], axis=1)\n",
    "  data = df.to_numpy().astype(np.uint8)\n",
    "\n",
    "  # SLink mat setup\n",
    "  sl_max = np.ones((19,)) * 10\n",
    "  #Adachi\n",
    "  adachi = df.columns.get_loc('Tohru Adachi')\n",
    "  sl_max[adachi] = MAX_ADACHI\n",
    "  #Marie\n",
    "  sl_max[9] = 4\n",
    "  #Eri\n",
    "  eri = df.columns.get_loc('Eri Minami')\n",
    "  sl_max[eri] = 11\n",
    "  #Nanako\n",
    "  suggoi = df.columns.get_loc('Nanako Dojima') #TODO: changeme!\n",
    "  sl_max[suggoi] = 11 #TODO: changeme!\n",
    "  mat = np.diag(sl_max).astype(np.uint8)\n",
    "\n",
    "  listrange = lambda x,y: list(range(x, y))\n",
    "  day_chars = [*listrange(0, 2), *listrange(3,12), *listrange(14, 17), 18]\n",
    "  night_chars = sorted(list(set(listrange(0,19))-set(day_chars)))\n",
    "  return {'availabilities': availabilities, 'mat': mat, 'months': months, 'date': date, 'data': data, 'day_chars': day_chars, 'night_chars': night_chars, 'df': df}\n"
   ]
  },
  {
   "cell_type": "code",
   "execution_count": 6,
   "metadata": {},
   "outputs": [
    {
     "data": {
      "text/plain": [
       "'Marie'"
      ]
     },
     "execution_count": 6,
     "metadata": {},
     "output_type": "execute_result"
    }
   ],
   "source": [
    "x = setup()\n",
    "x['df'].columns[9]"
   ]
  },
  {
   "attachments": {},
   "cell_type": "markdown",
   "metadata": {},
   "source": [
    "## Weights for Kou"
   ]
  },
  {
   "cell_type": "code",
   "execution_count": 35,
   "metadata": {},
   "outputs": [],
   "source": [
    "# Kou  setup\n",
    "\n",
    "def setup_kou():\n",
    "  weights = np.ones((19,))\n",
    "  return weights"
   ]
  },
  {
   "attachments": {},
   "cell_type": "markdown",
   "metadata": {},
   "source": [
    "## Weights for Daisuke"
   ]
  },
  {
   "cell_type": "code",
   "execution_count": 30,
   "metadata": {},
   "outputs": [],
   "source": [
    "# Daisuke setup\n",
    "def setup_daisuke():\n",
    "    weights = np.ones((19,))\n",
    "    return weights"
   ]
  },
  {
   "attachments": {},
   "cell_type": "markdown",
   "metadata": {},
   "source": [
    "## Simulation"
   ]
  },
  {
   "cell_type": "code",
   "execution_count": 31,
   "metadata": {},
   "outputs": [],
   "source": [
    "def process_adachi(level, idx, night_chars, day_chars):\n",
    "    if level in ADACHI_DAY_LEVELS:\n",
    "        night_chars = night_chars.remove(idx)\n",
    "        day_chars = day_chars.append(idx)\n",
    "    else:\n",
    "        night_chars = night_chars.append(idx)\n",
    "        day_chars = day_chars.remove(idx)\n",
    "    return night_chars, day_chars\n",
    "\n",
    "def iterate(r: np.ndarray, data: np.ndarray, mat: np.ndarray, night_chars, day_chars):\n",
    "    s = data.sum(axis=0)\n",
    "    r = np.divide(r, s, out=np.zeros_like(r).astype(np.float32), where=s!=0)\n",
    "    res = mat@r\n",
    "    maxdata = np.argmax(res)\n",
    "    if res[maxdata] <= 0: return mat, None\n",
    "    curr = mat[maxdata, maxdata]\n",
    "    if curr <= 0: return mat, None\n",
    "    mat[maxdata, maxdata] = curr - 1\n",
    "    adachi = df.columns.get_loc('Tohru Adachi')\n",
    "    if maxdata == adachi:\n",
    "        night_chars, day_chars = process_adachi(MAX_ADACHI-curr+1, adachi, night_chars, day_chars)\n",
    "    return mat, maxdata, night_chars, day_chars\n",
    "\n",
    "def simulate(data, mat, weights, availabilities, night_chars, day_chars, **kwargs):\n",
    "    selecteds = []\n",
    "    for i, r in enumerate(data.copy()):\n",
    "        r = r * weights\n",
    "        if i == 105:\n",
    "            mat[9, 9] = 6 + mat[9, 9]\n",
    "        if availabilities[i] == 'b':\n",
    "            a = r.copy()\n",
    "            a[night_chars] = 0\n",
    "            d = data[i:].copy()\n",
    "            d[:, night_chars] = 0\n",
    "            mat, selected1, night_chars, day_chars = iterate(a, d, mat)\n",
    "            a = r.copy()\n",
    "            a[day_chars] = 0\n",
    "            d = data[i:].copy()\n",
    "            d[:, day_chars] = 0\n",
    "            mat, selected2, night_chars, day_chars = iterate(a, d, mat)\n",
    "            selected = (selected1, selected2)\n",
    "        else:\n",
    "            mat, selected, night_chars, day_chars = iterate(r, data[i:], mat)\n",
    "            selected = (selected, None)\n",
    "        selecteds.append(selected)\n",
    "    # print(np.diag(mat))\n",
    "    # print(df.columns[np.diag(mat) > 0], np.diag(mat)[np.diag(mat) > 0])\n",
    "    # print(np.where(np.diag(mat) > 0))\n",
    "    return selecteds, np.diag(mat)\n"
   ]
  },
  {
   "attachments": {},
   "cell_type": "markdown",
   "metadata": {},
   "source": [
    "## Find weights"
   ]
  },
  {
   "cell_type": "code",
   "execution_count": 39,
   "metadata": {},
   "outputs": [
    {
     "name": "stdout",
     "output_type": "stream",
     "text": [
      "iteration needed: 50\n",
      "final sl residue: [0 0 0 0 0 0 0 0 0 0 0 0 0 0 0 0 0 0 0]\n",
      "names: Index([], dtype='object')\n",
      "weights: [1.1 2.1 1.  2.1 1.  1.4 1.4 1.  1.8 1.3 1.  1.  1.  1.  1.1 1.9 1.  1.\n",
      " 1.5]\n"
     ]
    }
   ],
   "source": [
    "weights = setup_kou()\n",
    "for i in range(100):\n",
    "  data = setup()\n",
    "  data['weights'] = weights\n",
    "  _, res = simulate(**data)\n",
    "  if (res == 0).all():\n",
    "    break\n",
    "  weights[np.where(res > 0)] += .1\n",
    "print(f'iteration needed: {i}')\n",
    "print(f'final sl residue: {res}')\n",
    "print(f'final sl residue names: {data[\"df\"].columns[res > 0]}')\n",
    "print(f'weights: {weights}')\n",
    "\n",
    "  "
   ]
  },
  {
   "attachments": {},
   "cell_type": "markdown",
   "metadata": {},
   "source": [
    "## Final simulation and Save result"
   ]
  },
  {
   "cell_type": "code",
   "execution_count": 33,
   "metadata": {},
   "outputs": [
    {
     "name": "stdout",
     "output_type": "stream",
     "text": [
      "[0 0 0 0 0 0 0 0 0 0 0 0 0 0 0 0 0 0 0]\n",
      "Index([], dtype='object')\n"
     ]
    }
   ],
   "source": [
    "data = setup()\n",
    "data['weights'] = weights\n",
    "df = data['df']\n",
    "date = data['date']\n",
    "months = data['months']\n",
    "selecteds, res = simulate(**data)\n",
    "print(res)\n",
    "print(data['df'].columns[res > 0])\n",
    "names = df.columns.to_numpy().copy()\n",
    "none = names.shape[0]\n",
    "names = np.append(names, 'None')\n",
    "p = []\n",
    "for i, (d, m) in enumerate(zip(date, months)):\n",
    "    s1, s2 = selecteds[i]\n",
    "    if s1 is None: s1 = none\n",
    "    if s2 is None:\n",
    "        p.append(names[s1])\n",
    "    else:\n",
    "        p.append(f'Day: {names[s1]}, Night: {names[s2]}')\n",
    "\n",
    "import csv\n",
    "with open('ok1.csv', 'w') as f:\n",
    "    writer = csv.writer(f, lineterminator='\\n')\n",
    "    writer.writerows(zip(months,date,p))"
   ]
  }
 ],
 "metadata": {
  "kernelspec": {
   "display_name": "base",
   "language": "python",
   "name": "python3"
  },
  "language_info": {
   "codemirror_mode": {
    "name": "ipython",
    "version": 3
   },
   "file_extension": ".py",
   "mimetype": "text/x-python",
   "name": "python",
   "nbconvert_exporter": "python",
   "pygments_lexer": "ipython3",
   "version": "3.9.5"
  },
  "orig_nbformat": 4
 },
 "nbformat": 4,
 "nbformat_minor": 2
}
