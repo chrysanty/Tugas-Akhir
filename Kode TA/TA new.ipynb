{
 "cells": [
  {
   "cell_type": "code",
   "execution_count": 1,
   "metadata": {},
   "outputs": [],
   "source": [
    "import pandas as pd\n",
    "import numpy as np\n",
    "\n",
    "def setup():\n",
    "  # Data loading and setting up\n",
    "  df = pd.read_csv('k1.csv')\n",
    "  availabilities = df[df.columns[2]].astype(str)\n",
    "  months = df[df.columns[0]].ffill().astype(str)\n",
    "  date = df[df.columns[1]].astype(np.uint8)\n",
    "  df = df.drop(df.columns[range(3)], axis=1)\n",
    "  data = df.to_numpy().astype(np.uint8)\n",
    "\n",
    "  # SLink mat setup\n",
    "  mat = np.zeros((19,19)).astype(np.uint8)\n",
    "  np.fill_diagonal(mat, 10)\n",
    "  #Adachi\n",
    "  mat[11, 11] = 6\n",
    "  #Marie\n",
    "  mat[9, 9] = 4\n",
    "  #Eri\n",
    "  eri = df.columns.get_loc('Eri Minami')\n",
    "  mat[eri, eri] = 11\n",
    "  #Nanako\n",
    "  suggoi = df.columns.get_loc('Nanako Dojima')\n",
    "  mat[suggoi, suggoi] = 11\n",
    "\n",
    "  listrange = lambda x,y: list(range(x, y))\n",
    "  day_chars = [*listrange(0, 2), *listrange(3,12), *listrange(14, 17), 18]\n",
    "  night_chars = sorted(list(set(listrange(0,19))-set(day_chars)))\n",
    "  return {'availabilities': availabilities, 'mat': mat, 'months': months, 'date': date, 'data': data, 'day_chars': day_chars, 'night_chars': night_chars, 'df': df}\n"
   ]
  },
  {
   "attachments": {},
   "cell_type": "markdown",
   "metadata": {},
   "source": [
    "## Weights for Kou"
   ]
  },
  {
   "cell_type": "code",
   "execution_count": 2,
   "metadata": {},
   "outputs": [],
   "source": [
    "# Kou  setup\n",
    "\n",
    "def setup_kou():\n",
    "  weights = np.ones((19,))\n",
    "  return weights"
   ]
  },
  {
   "attachments": {},
   "cell_type": "markdown",
   "metadata": {},
   "source": [
    "## Weights for Daisuke"
   ]
  },
  {
   "cell_type": "code",
   "execution_count": 3,
   "metadata": {},
   "outputs": [],
   "source": [
    "# Daisuke setup\n",
    "def setup_daisuke():\n",
    "    weights = np.ones((19,))\n",
    "    return weights"
   ]
  },
  {
   "attachments": {},
   "cell_type": "markdown",
   "metadata": {},
   "source": [
    "## Simulation"
   ]
  },
  {
   "cell_type": "code",
   "execution_count": 4,
   "metadata": {},
   "outputs": [],
   "source": [
    "def iterate(r, data, mat):\n",
    "    s = data.sum(axis=0)\n",
    "    r = np.divide(r, s, out=np.zeros_like(r).astype(np.float32), where=s!=0)\n",
    "    res = mat@r\n",
    "    maxdata = np.argmax(res)\n",
    "    if res[maxdata] <= 0: return mat, None\n",
    "    curr = mat[maxdata, maxdata]\n",
    "    if curr <= 0: return mat, None\n",
    "    mat[maxdata, maxdata] = curr - 1\n",
    "    return mat, maxdata\n",
    "\n",
    "def simulate(data, mat, weights, availabilities, night_chars, day_chars, **kwargs):\n",
    "    selecteds = []\n",
    "    for i, r in enumerate(data.copy()):\n",
    "        r = r * weights\n",
    "        if i == 105:\n",
    "            mat[9, 9] = 6 + mat[9, 9]\n",
    "        if availabilities[i] == 'b':\n",
    "            a = r.copy()\n",
    "            a[night_chars] = 0\n",
    "            d = data[i:].copy()\n",
    "            d[:, night_chars] = 0\n",
    "            mat, selected1 = iterate(a, d, mat)\n",
    "            a = r.copy()\n",
    "            a[day_chars] = 0\n",
    "            d = data[i:].copy()\n",
    "            d[:, day_chars] = 0\n",
    "            mat, selected2 = iterate(a, d, mat)\n",
    "            selected = (selected1, selected2)\n",
    "        else:\n",
    "            mat, selected = iterate(r, data[i:], mat)\n",
    "            selected = (selected, None)\n",
    "        selecteds.append(selected)\n",
    "    # print(np.diag(mat))\n",
    "    # print(df.columns[np.diag(mat) > 0], np.diag(mat)[np.diag(mat) > 0])\n",
    "    # print(np.where(np.diag(mat) > 0))\n",
    "    return selecteds, np.diag(mat)\n"
   ]
  },
  {
   "attachments": {},
   "cell_type": "markdown",
   "metadata": {},
   "source": [
    "## Find weights"
   ]
  },
  {
   "cell_type": "code",
   "execution_count": 10,
   "metadata": {},
   "outputs": [
    {
     "name": "stdout",
     "output_type": "stream",
     "text": [
      "iteration needed: 906\n",
      "final sl residue: [0 0 0 0 0 0 0 0 0 0 0 0 0 0 0 0 0 0 0]\n",
      "final sl residue names: Index([], dtype='object')\n",
      "weights: [1.035 2.07  1.    2.075 1.    1.38  1.295 1.    1.77  1.18  1.    1.\n",
      " 1.    1.    1.04  1.775 1.    1.    1.385]\n"
     ]
    }
   ],
   "source": [
    "weights = setup_kou()\n",
    "for i in range(1000):\n",
    "  data = setup()\n",
    "  data['weights'] = weights\n",
    "  _, res = simulate(**data)\n",
    "  if (res == 0).all():\n",
    "    break\n",
    "  weights[np.where(res > 0)] += .005\n",
    "print(f'iteration needed: {i}')\n",
    "print(f'final sl residue: {res}')\n",
    "print(f'final sl residue names: {data[\"df\"].columns[res > 0]}')\n",
    "print(f'weights: {weights}')\n",
    "\n",
    "  "
   ]
  },
  {
   "attachments": {},
   "cell_type": "markdown",
   "metadata": {},
   "source": [
    "## Final simulation and Save result"
   ]
  },
  {
   "cell_type": "code",
   "execution_count": 11,
   "metadata": {},
   "outputs": [
    {
     "name": "stdout",
     "output_type": "stream",
     "text": [
      "[0 0 0 0 0 0 0 0 0 0 0 0 0 0 0 0 0 0 0]\n",
      "Index([], dtype='object')\n"
     ]
    }
   ],
   "source": [
    "data = setup()\n",
    "data['weights'] = weights\n",
    "df = data['df']\n",
    "date = data['date']\n",
    "months = data['months']\n",
    "selecteds, res = simulate(**data)\n",
    "print(res)\n",
    "print(data['df'].columns[res > 0])\n",
    "names = df.columns.to_numpy().copy()\n",
    "none = names.shape[0]\n",
    "names = np.append(names, 'None')\n",
    "p = []\n",
    "for i, (d, m) in enumerate(zip(date, months)):\n",
    "    s1, s2 = selecteds[i]\n",
    "    if s1 is None: s1 = none\n",
    "    if s2 is None:\n",
    "        p.append(names[s1])\n",
    "    else:\n",
    "        p.append(f'Day: {names[s1]}, Night: {names[s2]}')\n",
    "\n",
    "import csv\n",
    "with open('ok1.csv', 'w') as f:\n",
    "    writer = csv.writer(f, lineterminator='\\n')\n",
    "    writer.writerows(zip(months,date,p))"
   ]
  }
 ],
 "metadata": {
  "kernelspec": {
   "display_name": "base",
   "language": "python",
   "name": "python3"
  },
  "language_info": {
   "codemirror_mode": {
    "name": "ipython",
    "version": 3
   },
   "file_extension": ".py",
   "mimetype": "text/x-python",
   "name": "python",
   "nbconvert_exporter": "python",
   "pygments_lexer": "ipython3",
   "version": "3.8.3"
  },
  "orig_nbformat": 4
 },
 "nbformat": 4,
 "nbformat_minor": 2
}
